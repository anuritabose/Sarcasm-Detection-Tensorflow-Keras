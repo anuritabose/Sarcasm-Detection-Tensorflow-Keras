{
  "nbformat": 4,
  "nbformat_minor": 0,
  "metadata": {
    "colab": {
      "name": "Sarcasm Detection using Bidirectional LSTM.ipynb",
      "provenance": [],
      "collapsed_sections": [],
      "include_colab_link": true
    },
    "kernelspec": {
      "name": "python3",
      "display_name": "Python 3"
    }
  },
  "cells": [
    {
      "cell_type": "markdown",
      "metadata": {
        "id": "view-in-github",
        "colab_type": "text"
      },
      "source": [
        "<a href=\"https://colab.research.google.com/github/anuritabose/Sarcasm-Detection-using-Tensorflow-Keras---ML_Approach/blob/master/Sarcasm_Detection_using_Bidirectional_LSTM.ipynb\" target=\"_parent\"><img src=\"https://colab.research.google.com/assets/colab-badge.svg\" alt=\"Open In Colab\"/></a>"
      ]
    },
    {
      "cell_type": "code",
      "metadata": {
        "id": "K4I5NDcCZrCX",
        "colab_type": "code",
        "colab": {}
      },
      "source": [
        "import json\n",
        "import tensorflow as tf\n",
        "from tensorflow import keras\n",
        "\n",
        "from tensorflow.keras.preprocessing.text import Tokenizer\n",
        "from tensorflow.keras.preprocessing.sequence import pad_sequences"
      ],
      "execution_count": null,
      "outputs": []
    },
    {
      "cell_type": "code",
      "metadata": {
        "id": "IeAKmhV0aKxN",
        "colab_type": "code",
        "colab": {}
      },
      "source": [
        "vocab_size = 17500\n",
        "embedding_dim = 50\n",
        "max_length = 100\n",
        "trunc_type='post'\n",
        "padding_type='post'\n",
        "oov_tok = \"<OOV>\"\n",
        "training_size = 90768"
      ],
      "execution_count": null,
      "outputs": []
    },
    {
      "cell_type": "code",
      "metadata": {
        "id": "tUFBuOsfaMxC",
        "colab_type": "code",
        "colab": {
          "resources": {
            "http://localhost:8080/nbextensions/google.colab/files.js": {
              "data": "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",
              "ok": true,
              "headers": [
                [
                  "content-type",
                  "application/javascript"
                ]
              ],
              "status": 200,
              "status_text": ""
            }
          },
          "base_uri": "https://localhost:8080/",
          "height": 72
        },
        "outputId": "399466b3-27b8-4d51-a391-21471c752ceb"
      },
      "source": [
        "from google.colab import files\n",
        "uploaded = files.upload()"
      ],
      "execution_count": null,
      "outputs": [
        {
          "output_type": "display_data",
          "data": {
            "text/html": [
              "\n",
              "     <input type=\"file\" id=\"files-97ae3e36-6371-4a66-8618-5744274e3d78\" name=\"files[]\" multiple disabled\n",
              "        style=\"border:none\" />\n",
              "     <output id=\"result-97ae3e36-6371-4a66-8618-5744274e3d78\">\n",
              "      Upload widget is only available when the cell has been executed in the\n",
              "      current browser session. Please rerun this cell to enable.\n",
              "      </output>\n",
              "      <script src=\"/nbextensions/google.colab/files.js\"></script> "
            ],
            "text/plain": [
              "<IPython.core.display.HTML object>"
            ]
          },
          "metadata": {
            "tags": []
          }
        },
        {
          "output_type": "stream",
          "text": [
            "Saving Dataset5_reshuffled (3).json to Dataset5_reshuffled (3).json\n"
          ],
          "name": "stdout"
        }
      ]
    },
    {
      "cell_type": "code",
      "metadata": {
        "id": "qZfWhFguaQoV",
        "colab_type": "code",
        "colab": {}
      },
      "source": [
        "with open(\"Dataset5_reshuffled (3).json\", 'r') as f:\n",
        "    datastore = json.load(f)\n",
        "\n",
        "sentences = []\n",
        "labels = []\n",
        "\n",
        "for item in datastore:\n",
        "    sentences.append(item['sentence'])\n",
        "    labels.append(item['label'])"
      ],
      "execution_count": null,
      "outputs": []
    },
    {
      "cell_type": "code",
      "metadata": {
        "id": "9zJvdh91hOlR",
        "colab_type": "code",
        "colab": {}
      },
      "source": [
        "for i in range(len(sentences)):\n",
        "  sentences[i]=str(sentences[i]).lower()"
      ],
      "execution_count": null,
      "outputs": []
    },
    {
      "cell_type": "code",
      "metadata": {
        "id": "fnCrxvMcTIyZ",
        "colab_type": "code",
        "colab": {}
      },
      "source": [
        "import string\n",
        "from string import digits, punctuation\n",
        "\n",
        "sentences_cleansed = []\n",
        "for s in sentences:\n",
        "  #print(s)\n",
        "#     Remove punctuations\n",
        "  clean = str(s).translate(str.maketrans('', '', punctuation))\n",
        "#     Remove digits/numbers\n",
        "  clean = clean.translate(str.maketrans('', '', digits))\n",
        "  sentences_cleansed.append(clean)\n",
        "    "
      ],
      "execution_count": null,
      "outputs": []
    },
    {
      "cell_type": "code",
      "metadata": {
        "id": "uolMkr_hDfFS",
        "colab_type": "code",
        "colab": {}
      },
      "source": [
        "training_sentences = sentences_cleansed[0:training_size]\n",
        "testing_sentences = sentences_cleansed[training_size:]\n",
        "training_labels = labels[0:training_size]\n",
        "testing_labels = labels[training_size:]"
      ],
      "execution_count": null,
      "outputs": []
    },
    {
      "cell_type": "code",
      "metadata": {
        "id": "ZIGjWiYDIqRL",
        "colab_type": "code",
        "colab": {
          "base_uri": "https://localhost:8080/",
          "height": 210
        },
        "outputId": "399b733b-1c26-445b-957a-3f255bd2db8e"
      },
      "source": [
        "!pip install emoji"
      ],
      "execution_count": null,
      "outputs": [
        {
          "output_type": "stream",
          "text": [
            "Collecting emoji\n",
            "\u001b[?25l  Downloading https://files.pythonhosted.org/packages/40/8d/521be7f0091fe0f2ae690cc044faf43e3445e0ff33c574eae752dd7e39fa/emoji-0.5.4.tar.gz (43kB)\n",
            "\r\u001b[K     |███████▌                        | 10kB 17.1MB/s eta 0:00:01\r\u001b[K     |███████████████                 | 20kB 2.1MB/s eta 0:00:01\r\u001b[K     |██████████████████████▋         | 30kB 2.8MB/s eta 0:00:01\r\u001b[K     |██████████████████████████████▏ | 40kB 3.1MB/s eta 0:00:01\r\u001b[K     |████████████████████████████████| 51kB 1.8MB/s \n",
            "\u001b[?25hBuilding wheels for collected packages: emoji\n",
            "  Building wheel for emoji (setup.py) ... \u001b[?25l\u001b[?25hdone\n",
            "  Created wheel for emoji: filename=emoji-0.5.4-cp36-none-any.whl size=42176 sha256=d88bc4ce04bfb5db18930ac10040fcac66f70b70b5d8ee3754b1226b1dabebc2\n",
            "  Stored in directory: /root/.cache/pip/wheels/2a/a9/0a/4f8e8cce8074232aba240caca3fade315bb49fac68808d1a9c\n",
            "Successfully built emoji\n",
            "Installing collected packages: emoji\n",
            "Successfully installed emoji-0.5.4\n"
          ],
          "name": "stdout"
        }
      ]
    },
    {
      "cell_type": "code",
      "metadata": {
        "id": "TxUrRfc5IrYV",
        "colab_type": "code",
        "colab": {}
      },
      "source": [
        "import emoji\n",
        "from emoji import UNICODE_EMOJI\n",
        "\n",
        "# search your emoji\n",
        "def is_emoji(s):\n",
        "    return s in UNICODE_EMOJI\n",
        "\n",
        "# add space near your emoji\n",
        "def add_space(text):\n",
        "    return ''.join(' ' + char + ' ' if is_emoji(char) else char for char in text).strip()\n",
        "\n",
        "spacedEmoji_training_sentences=[]\n",
        "spacedEmoji_testing_sentences=[]\n",
        "\n",
        "for i in training_sentences:\n",
        "  i=add_space(i)\n",
        "  spacedEmoji_training_sentences.append(i)\n",
        "\n",
        "for i in testing_sentences:\n",
        "  i=add_space(i)\n",
        "  spacedEmoji_testing_sentences.append(i)\n",
        "\n"
      ],
      "execution_count": null,
      "outputs": []
    },
    {
      "cell_type": "code",
      "metadata": {
        "id": "rWjlO1elZMcv",
        "colab_type": "code",
        "colab": {
          "base_uri": "https://localhost:8080/",
          "height": 104
        },
        "outputId": "a4272f38-9c6c-4452-f6cf-08df7f04cae1"
      },
      "source": [
        "# Tokenization process\n",
        "training_tokens = []\n",
        "for s in spacedEmoji_training_sentences:\n",
        "    training_tokens.append(s.split())\n",
        "\n",
        "# View Comparison\n",
        "index = 100\n",
        "print('Before tokenization :')\n",
        "print(spacedEmoji_training_sentences[index])\n",
        "print('\\nAfter tokenization :')\n",
        "print(training_tokens[index])"
      ],
      "execution_count": null,
      "outputs": [
        {
          "output_type": "stream",
          "text": [
            "Before tokenization :\n",
            "just waiting for noon so i can go to the mall and buy some weights and ankle socks\n",
            "\n",
            "After tokenization :\n",
            "['just', 'waiting', 'for', 'noon', 'so', 'i', 'can', 'go', 'to', 'the', 'mall', 'and', 'buy', 'some', 'weights', 'and', 'ankle', 'socks']\n"
          ],
          "name": "stdout"
        }
      ]
    },
    {
      "cell_type": "code",
      "metadata": {
        "id": "gtPImQ1FED0c",
        "colab_type": "code",
        "colab": {
          "base_uri": "https://localhost:8080/",
          "height": 124
        },
        "outputId": "1ebda1c9-9cf0-4017-ceba-a23f01b9e379"
      },
      "source": [
        "# Tokenization process\n",
        "testing_tokens = []\n",
        "for s in spacedEmoji_testing_sentences:\n",
        "    testing_tokens.append(s.split())\n",
        "\n",
        "# View Comparison\n",
        "index = 100\n",
        "print('Before tokenization :')\n",
        "print(spacedEmoji_testing_sentences[index])\n",
        "print('\\nAfter tokenization :')\n",
        "print(testing_tokens[index])"
      ],
      "execution_count": null,
      "outputs": [
        {
          "output_type": "stream",
          "text": [
            "Before tokenization :\n",
            "if you dont even follow me and i dont follow you why would i recommend someone else to follow you\n",
            "\n",
            "After tokenization :\n",
            "['if', 'you', 'dont', 'even', 'follow', 'me', 'and', 'i', 'dont', 'follow', 'you', 'why', 'would', 'i', 'recommend', 'someone', 'else', 'to', 'follow', 'you']\n"
          ],
          "name": "stdout"
        }
      ]
    },
    {
      "cell_type": "code",
      "metadata": {
        "id": "xpiLUZSCaDCI",
        "colab_type": "code",
        "colab": {
          "base_uri": "https://localhost:8080/",
          "height": 52
        },
        "outputId": "ebc3d5ed-3f76-4adc-878d-94f4a45e1ffc"
      },
      "source": [
        "!pip install nltk"
      ],
      "execution_count": null,
      "outputs": [
        {
          "output_type": "stream",
          "text": [
            "Requirement already satisfied: nltk in /usr/local/lib/python3.6/dist-packages (3.2.5)\n",
            "Requirement already satisfied: six in /usr/local/lib/python3.6/dist-packages (from nltk) (1.15.0)\n"
          ],
          "name": "stdout"
        }
      ]
    },
    {
      "cell_type": "code",
      "metadata": {
        "id": "_3ZvpPYtZd2h",
        "colab_type": "code",
        "colab": {
          "base_uri": "https://localhost:8080/",
          "height": 139
        },
        "outputId": "8de8463a-350a-4045-a68e-07dacaff4a0d"
      },
      "source": [
        "# Lemmatize with appropriate POS Tag\n",
        "# Credit : www.machinelearningplus.com/nlp/lemmatization-examples-python/\n",
        "\n",
        "import nltk\n",
        "nltk.download('averaged_perceptron_tagger')\n",
        "nltk.download('wordnet')\n",
        "\n",
        "\n",
        "from nltk.corpus import wordnet\n",
        "from nltk.stem import WordNetLemmatizer\n",
        "\n",
        "def get_wordnet_pos(word):\n",
        "    \"\"\"Map POS tag to first character lemmatize() accepts\"\"\"\n",
        "    tag = nltk.pos_tag([word])[0][1][0].upper()\n",
        "    tag_dict = {\"J\": wordnet.ADJ,\n",
        "                \"N\": wordnet.NOUN,\n",
        "                \"V\": wordnet.VERB,\n",
        "                \"R\": wordnet.ADV}\n",
        "\n",
        "    return tag_dict.get(tag, wordnet.NOUN)\n",
        "\n",
        "# Init Lemmatizer\n",
        "lemmatizer = WordNetLemmatizer()\n",
        "\n",
        "training_lemmatized = []\n",
        "testing_lemmatized=[]\n",
        "\n",
        "for tokens in training_tokens:\n",
        "    lemm = [lemmatizer.lemmatize(w, get_wordnet_pos(w)) for w in tokens]\n",
        "    training_lemmatized.append(lemm)\n",
        "\n",
        "for tokens in testing_tokens:\n",
        "    lemm = [lemmatizer.lemmatize(w, get_wordnet_pos(w)) for w in tokens]\n",
        "    testing_lemmatized.append(lemm)\n",
        "\n",
        "'''\n",
        "# Example comparison\n",
        "word_1 = ['skyrim','dragons', 'are', 'having', 'parties']\n",
        "word_2 = [lemmatizer.lemmatize(w, get_wordnet_pos(w)) for w in word_1]\n",
        "print('Before lemmatization :\\t',word_1)\n",
        "print('After lemmatization :\\t',word_2)\n",
        "\n",
        "#print(sentences_lemmatized[:10])'''"
      ],
      "execution_count": null,
      "outputs": [
        {
          "output_type": "stream",
          "text": [
            "[nltk_data] Downloading package averaged_perceptron_tagger to\n",
            "[nltk_data]     /root/nltk_data...\n",
            "[nltk_data]   Unzipping taggers/averaged_perceptron_tagger.zip.\n",
            "[nltk_data] Downloading package wordnet to /root/nltk_data...\n",
            "[nltk_data]   Unzipping corpora/wordnet.zip.\n"
          ],
          "name": "stdout"
        },
        {
          "output_type": "execute_result",
          "data": {
            "application/vnd.google.colaboratory.intrinsic+json": {
              "type": "string"
            },
            "text/plain": [
              "\"\\n# Example comparison\\nword_1 = ['skyrim','dragons', 'are', 'having', 'parties']\\nword_2 = [lemmatizer.lemmatize(w, get_wordnet_pos(w)) for w in word_1]\\nprint('Before lemmatization :\\t',word_1)\\nprint('After lemmatization :\\t',word_2)\\n\\n#print(sentences_lemmatized[:10])\""
            ]
          },
          "metadata": {
            "tags": []
          },
          "execution_count": 13
        }
      ]
    },
    {
      "cell_type": "code",
      "metadata": {
        "id": "tf1wy5jvbUqU",
        "colab_type": "code",
        "colab": {}
      },
      "source": [
        "# Vectorize and convert text into sequences\n",
        "#max_features = 2000\n",
        "if len(max(training_lemmatized)) > len(max(testing_lemmatized)):\n",
        "  max_token= len(max(training_lemmatized)) \n",
        "else:\n",
        "  max_token= len(max(testing_lemmatized))\n",
        "\n",
        "tokenizer = Tokenizer(num_words=vocab_size, oov_token=oov_tok)\n",
        "tokenizer.fit_on_texts(training_lemmatized)\n",
        "\n",
        "training_sequences = tokenizer.texts_to_sequences(training_lemmatized)\n",
        "training_padded = pad_sequences(training_sequences, maxlen=max_length, padding=padding_type, truncating=trunc_type)\n",
        "\n",
        "testing_sequences = tokenizer.texts_to_sequences(testing_lemmatized)\n",
        "testing_padded = pad_sequences(testing_sequences, maxlen=max_length, padding=padding_type, truncating=trunc_type)\n",
        "\n",
        "#print(testing_padded,testing_labels)"
      ],
      "execution_count": null,
      "outputs": []
    },
    {
      "cell_type": "code",
      "metadata": {
        "id": "0G51IvR7-Uww",
        "colab_type": "code",
        "colab": {
          "base_uri": "https://localhost:8080/",
          "height": 296
        },
        "outputId": "fa7cf5da-97c2-45e4-8e6e-a62e492835e9"
      },
      "source": [
        "index=100\n",
        "print('Before :')\n",
        "print(testing_lemmatized[index],'\\n')\n",
        "print('After sequences convertion :')\n",
        "print(testing_sequences[index],'\\n')\n",
        "print('After padding :')\n",
        "print(testing_padded[index])\n"
      ],
      "execution_count": null,
      "outputs": [
        {
          "output_type": "stream",
          "text": [
            "Before :\n",
            "['if', 'you', 'dont', 'even', 'follow', 'me', 'and', 'i', 'dont', 'follow', 'you', 'why', 'would', 'i', 'recommend', 'someone', 'else', 'to', 'follow', 'you'] \n",
            "\n",
            "After sequences convertion :\n",
            "[39, 7, 36, 104, 207, 16, 8, 3, 36, 207, 7, 80, 93, 3, 2636, 108, 377, 5, 207, 7] \n",
            "\n",
            "After padding :\n",
            "[  39    7   36  104  207   16    8    3   36  207    7   80   93    3\n",
            " 2636  108  377    5  207    7    0    0    0    0    0    0    0    0\n",
            "    0    0    0    0    0    0    0    0    0    0    0    0    0    0\n",
            "    0    0    0    0    0    0    0    0    0    0    0    0    0    0\n",
            "    0    0    0    0    0    0    0    0    0    0    0    0    0    0\n",
            "    0    0    0    0    0    0    0    0    0    0    0    0    0    0\n",
            "    0    0    0    0    0    0    0    0    0    0    0    0    0    0\n",
            "    0    0]\n"
          ],
          "name": "stdout"
        }
      ]
    },
    {
      "cell_type": "code",
      "metadata": {
        "id": "o5p92KYNadFQ",
        "colab_type": "code",
        "colab": {}
      },
      "source": [
        "import numpy as np\n",
        "training_padded = np.array(training_padded)\n",
        "training_labels = np.array(training_labels)\n",
        "testing_padded = np.array(testing_padded)\n",
        "testing_labels = np.array(testing_labels)"
      ],
      "execution_count": null,
      "outputs": []
    },
    {
      "cell_type": "code",
      "metadata": {
        "id": "dEO1xkj8ahYo",
        "colab_type": "code",
        "colab": {
          "base_uri": "https://localhost:8080/",
          "height": 35
        },
        "outputId": "193072cf-e4fc-438d-dd9e-7bed5262a71a"
      },
      "source": [
        "from keras import backend as K\n",
        "\n",
        "def recall_m(y_true, y_pred):\n",
        "    true_positives = K.sum(K.round(K.clip(y_true * y_pred, 0, 1)))\n",
        "    possible_positives = K.sum(K.round(K.clip(y_true, 0, 1)))\n",
        "    recall = true_positives / (possible_positives + K.epsilon())\n",
        "    return recall\n",
        "\n",
        "def precision_m(y_true, y_pred):\n",
        "    true_positives = K.sum(K.round(K.clip(y_true * y_pred, 0, 1)))\n",
        "    predicted_positives = K.sum(K.round(K.clip(y_pred, 0, 1)))\n",
        "    precision = true_positives / (predicted_positives + K.epsilon())\n",
        "    return precision\n",
        "\n",
        "def f1_m(y_true, y_pred):\n",
        "    precision = precision_m(y_true, y_pred)\n",
        "    recall = recall_m(y_true, y_pred)\n",
        "    return 2*((precision*recall)/(precision+recall+K.epsilon()))"
      ],
      "execution_count": null,
      "outputs": [
        {
          "output_type": "stream",
          "text": [
            "Using TensorFlow backend.\n"
          ],
          "name": "stderr"
        }
      ]
    },
    {
      "cell_type": "code",
      "metadata": {
        "id": "aUOLLOLOymYM",
        "colab_type": "code",
        "colab": {
          "base_uri": "https://localhost:8080/",
          "height": 259
        },
        "outputId": "90ffdc37-af06-44e1-f7f8-a05a83f83413"
      },
      "source": [
        "model = tf.keras.Sequential([\n",
        "    tf.keras.layers.Embedding(vocab_size, embedding_dim, input_length=max_length),\n",
        "    tf.keras.layers.Bidirectional(tf.keras.layers.LSTM(64, dropout=0.2, recurrent_dropout=0.2, activation='relu' )),\n",
        "    tf.keras.layers.Dense(1, activation='sigmoid')\n",
        "])\n",
        "\n",
        "opt = keras.optimizers.Adam(lr=0.0001, decay=1e-6)\n",
        "model.compile(loss='binary_crossentropy', optimizer=opt , metrics=['accuracy', f1_m, precision_m, recall_m])\n",
        "model.summary()"
      ],
      "execution_count": null,
      "outputs": [
        {
          "output_type": "stream",
          "text": [
            "Model: \"sequential\"\n",
            "_________________________________________________________________\n",
            "Layer (type)                 Output Shape              Param #   \n",
            "=================================================================\n",
            "embedding (Embedding)        (None, 100, 50)           875000    \n",
            "_________________________________________________________________\n",
            "bidirectional (Bidirectional (None, 128)               58880     \n",
            "_________________________________________________________________\n",
            "dense (Dense)                (None, 1)                 129       \n",
            "=================================================================\n",
            "Total params: 934,009\n",
            "Trainable params: 934,009\n",
            "Non-trainable params: 0\n",
            "_________________________________________________________________\n"
          ],
          "name": "stdout"
        }
      ]
    },
    {
      "cell_type": "code",
      "metadata": {
        "id": "PuKCIb2OapS3",
        "colab_type": "code",
        "colab": {
          "base_uri": "https://localhost:8080/",
          "height": 1000
        },
        "outputId": "cf5d1e8e-2906-4ac5-b7cb-042575afa5d3"
      },
      "source": [
        "num_epochs = 70\n",
        "\n",
        "#validation_data=(testing_padded, testing_labels)\n",
        "#print(type(training_padded),type(training_labels),type(num_epochs),type(testing_labels),type(validation_data))\n",
        "#print(training_padded,training_labels,num_epochs,testing_padded,testing_labels)\n",
        "history = model.fit(training_padded, training_labels, batch_size=128, epochs=num_epochs, validation_data=(testing_padded, testing_labels), verbose=2)"
      ],
      "execution_count": null,
      "outputs": [
        {
          "output_type": "stream",
          "text": [
            "Epoch 1/70\n",
            "710/710 - 323s - loss: 21.5825 - accuracy: 0.5884 - f1_m: 0.6016 - precision_m: 0.5887 - recall_m: 0.6600 - val_loss: 0.6772 - val_accuracy: 0.6663 - val_f1_m: 0.6465 - val_precision_m: 0.6812 - val_recall_m: 0.6185\n",
            "Epoch 2/70\n",
            "710/710 - 323s - loss: 0.6740 - accuracy: 0.6740 - f1_m: 0.6807 - precision_m: 0.6676 - recall_m: 0.7004 - val_loss: 0.6716 - val_accuracy: 0.6852 - val_f1_m: 0.6812 - val_precision_m: 0.6846 - val_recall_m: 0.6811\n",
            "Epoch 3/70\n",
            "710/710 - 324s - loss: 0.6674 - accuracy: 0.6918 - f1_m: 0.6926 - precision_m: 0.6933 - recall_m: 0.7000 - val_loss: 0.6660 - val_accuracy: 0.6921 - val_f1_m: 0.6838 - val_precision_m: 0.6963 - val_recall_m: 0.6750\n",
            "Epoch 4/70\n",
            "710/710 - 326s - loss: 0.6608 - accuracy: 0.7033 - f1_m: 0.6930 - precision_m: 0.7187 - recall_m: 0.6751 - val_loss: 0.6605 - val_accuracy: 0.6960 - val_f1_m: 0.7059 - val_precision_m: 0.6788 - val_recall_m: 0.7387\n",
            "Epoch 5/70\n",
            "710/710 - 321s - loss: 14.9979 - accuracy: 0.7071 - f1_m: 0.7186 - precision_m: 0.6920 - recall_m: 0.7514 - val_loss: 0.6549 - val_accuracy: 0.6976 - val_f1_m: 0.7072 - val_precision_m: 0.6809 - val_recall_m: 0.7391\n",
            "Epoch 6/70\n",
            "710/710 - 326s - loss: 0.6480 - accuracy: 0.7141 - f1_m: 0.7178 - precision_m: 0.7083 - recall_m: 0.7311 - val_loss: 0.6494 - val_accuracy: 0.6993 - val_f1_m: 0.6984 - val_precision_m: 0.6950 - val_recall_m: 0.7053\n",
            "Epoch 7/70\n",
            "710/710 - 320s - loss: 0.6419 - accuracy: 0.7175 - f1_m: 0.7155 - precision_m: 0.7204 - recall_m: 0.7140 - val_loss: 0.6440 - val_accuracy: 0.7016 - val_f1_m: 0.6932 - val_precision_m: 0.7070 - val_recall_m: 0.6834\n",
            "Epoch 8/70\n",
            "710/710 - 338s - loss: 0.6357 - accuracy: 0.7202 - f1_m: 0.7126 - precision_m: 0.7318 - recall_m: 0.6974 - val_loss: 0.6384 - val_accuracy: 0.7020 - val_f1_m: 0.6908 - val_precision_m: 0.7115 - val_recall_m: 0.6746\n",
            "Epoch 9/70\n",
            "710/710 - 321s - loss: 0.6295 - accuracy: 0.7219 - f1_m: 0.7119 - precision_m: 0.7392 - recall_m: 0.6901 - val_loss: 0.6329 - val_accuracy: 0.7029 - val_f1_m: 0.6897 - val_precision_m: 0.7156 - val_recall_m: 0.6690\n",
            "Epoch 10/70\n",
            "710/710 - 321s - loss: 0.6234 - accuracy: 0.7225 - f1_m: 0.7125 - precision_m: 0.7394 - recall_m: 0.6906 - val_loss: 0.6273 - val_accuracy: 0.7032 - val_f1_m: 0.6890 - val_precision_m: 0.7178 - val_recall_m: 0.6657\n",
            "Epoch 11/70\n",
            "710/710 - 323s - loss: 0.6171 - accuracy: 0.7229 - f1_m: 0.7107 - precision_m: 0.7430 - recall_m: 0.6844 - val_loss: 2576839680.0000 - val_accuracy: 0.7030 - val_f1_m: 0.6883 - val_precision_m: 0.7184 - val_recall_m: 0.6639\n",
            "Epoch 12/70\n",
            "710/710 - 329s - loss: 0.6110 - accuracy: 0.7232 - f1_m: 0.7109 - precision_m: 0.7437 - recall_m: 0.6842 - val_loss: 50170413056.0000 - val_accuracy: 0.7030 - val_f1_m: 0.6860 - val_precision_m: 0.7215 - val_recall_m: 0.6575\n",
            "Epoch 13/70\n",
            "710/710 - 336s - loss: 0.8124 - accuracy: 0.7237 - f1_m: 0.7110 - precision_m: 0.7438 - recall_m: 0.6841 - val_loss: 110656675840.0000 - val_accuracy: 0.7018 - val_f1_m: 0.6862 - val_precision_m: 0.7183 - val_recall_m: 0.6603\n",
            "Epoch 14/70\n",
            "710/710 - 327s - loss: 0.6078 - accuracy: 0.7229 - f1_m: 0.7090 - precision_m: 0.7455 - recall_m: 0.6791 - val_loss: 378958479360.0000 - val_accuracy: 0.7025 - val_f1_m: 0.6858 - val_precision_m: 0.7207 - val_recall_m: 0.6577\n",
            "Epoch 15/70\n",
            "710/710 - 321s - loss: 0.6016 - accuracy: 0.7245 - f1_m: 0.7107 - precision_m: 0.7473 - recall_m: 0.6806 - val_loss: 158241275904.0000 - val_accuracy: 0.7032 - val_f1_m: 0.6858 - val_precision_m: 0.7225 - val_recall_m: 0.6561\n",
            "Epoch 16/70\n",
            "710/710 - 325s - loss: 0.5963 - accuracy: 0.7247 - f1_m: 0.7082 - precision_m: 0.7517 - recall_m: 0.6726 - val_loss: 193056342016.0000 - val_accuracy: 0.7043 - val_f1_m: 0.6842 - val_precision_m: 0.7284 - val_recall_m: 0.6484\n",
            "Epoch 17/70\n",
            "710/710 - 321s - loss: 0.5897 - accuracy: 0.7258 - f1_m: 0.7087 - precision_m: 0.7548 - recall_m: 0.6707 - val_loss: 645970001920.0000 - val_accuracy: 0.7056 - val_f1_m: 0.6858 - val_precision_m: 0.7294 - val_recall_m: 0.6505\n",
            "Epoch 18/70\n",
            "710/710 - 323s - loss: 8.8008 - accuracy: 0.7291 - f1_m: 0.7147 - precision_m: 0.7536 - recall_m: 0.6857 - val_loss: 0.6152 - val_accuracy: 0.6732 - val_f1_m: 0.5882 - val_precision_m: 0.7841 - val_recall_m: 0.4741\n",
            "Epoch 19/70\n",
            "710/710 - 322s - loss: 0.6551 - accuracy: 0.6948 - f1_m: 0.6267 - precision_m: 0.8067 - recall_m: 0.5163 - val_loss: 0.6166 - val_accuracy: 0.6883 - val_f1_m: 0.6338 - val_precision_m: 0.7598 - val_recall_m: 0.5473\n",
            "Epoch 20/70\n",
            "710/710 - 323s - loss: 0.6323 - accuracy: 0.7169 - f1_m: 0.6828 - precision_m: 0.7756 - recall_m: 0.6139 - val_loss: 0.6908 - val_accuracy: 0.6995 - val_f1_m: 0.6731 - val_precision_m: 0.7324 - val_recall_m: 0.6260\n",
            "Epoch 21/70\n",
            "710/710 - 322s - loss: 0.6728 - accuracy: 0.7233 - f1_m: 0.7031 - precision_m: 0.7574 - recall_m: 0.6592 - val_loss: 0.8314 - val_accuracy: 0.7005 - val_f1_m: 0.6800 - val_precision_m: 0.7236 - val_recall_m: 0.6446\n",
            "Epoch 22/70\n",
            "710/710 - 321s - loss: 0.6256 - accuracy: 0.7148 - f1_m: 0.6823 - precision_m: 0.7684 - recall_m: 0.6205 - val_loss: 0.6289 - val_accuracy: 0.6837 - val_f1_m: 0.6342 - val_precision_m: 0.7437 - val_recall_m: 0.5563\n",
            "Epoch 23/70\n",
            "710/710 - 324s - loss: 0.6080 - accuracy: 0.7133 - f1_m: 0.6838 - precision_m: 0.7609 - recall_m: 0.6246 - val_loss: 0.6254 - val_accuracy: 0.6934 - val_f1_m: 0.6685 - val_precision_m: 0.7200 - val_recall_m: 0.6271\n",
            "Epoch 24/70\n",
            "710/710 - 322s - loss: 0.6011 - accuracy: 0.7217 - f1_m: 0.7063 - precision_m: 0.7467 - recall_m: 0.6733 - val_loss: 0.6230 - val_accuracy: 0.6973 - val_f1_m: 0.6823 - val_precision_m: 0.7109 - val_recall_m: 0.6590\n",
            "Epoch 25/70\n",
            "710/710 - 327s - loss: 0.5960 - accuracy: 0.7236 - f1_m: 0.7145 - precision_m: 0.7389 - recall_m: 0.6949 - val_loss: 0.6183 - val_accuracy: 0.6999 - val_f1_m: 0.6892 - val_precision_m: 0.7079 - val_recall_m: 0.6748\n",
            "Epoch 26/70\n",
            "710/710 - 323s - loss: 0.5870 - accuracy: 0.7247 - f1_m: 0.7177 - precision_m: 0.7361 - recall_m: 0.7034 - val_loss: 0.6107 - val_accuracy: 0.7010 - val_f1_m: 0.6913 - val_precision_m: 0.7077 - val_recall_m: 0.6789\n",
            "Epoch 27/70\n",
            "710/710 - 326s - loss: 0.5745 - accuracy: 0.7273 - f1_m: 0.7205 - precision_m: 0.7380 - recall_m: 0.7069 - val_loss: 0.6117 - val_accuracy: 0.7024 - val_f1_m: 0.6899 - val_precision_m: 0.7136 - val_recall_m: 0.6709\n",
            "Epoch 28/70\n",
            "710/710 - 321s - loss: 0.5573 - accuracy: 0.7307 - f1_m: 0.7205 - precision_m: 0.7478 - recall_m: 0.6982 - val_loss: 0.6241 - val_accuracy: 0.7051 - val_f1_m: 0.6946 - val_precision_m: 0.7141 - val_recall_m: 0.6793\n",
            "Epoch 29/70\n",
            "710/710 - 327s - loss: 0.5441 - accuracy: 0.7363 - f1_m: 0.7334 - precision_m: 0.7415 - recall_m: 0.7286 - val_loss: 0.6321 - val_accuracy: 0.7099 - val_f1_m: 0.7065 - val_precision_m: 0.7087 - val_recall_m: 0.7075\n",
            "Epoch 30/70\n",
            "710/710 - 322s - loss: 0.5342 - accuracy: 0.7408 - f1_m: 0.7400 - precision_m: 0.7410 - recall_m: 0.7423 - val_loss: 0.6637 - val_accuracy: 0.7121 - val_f1_m: 0.7077 - val_precision_m: 0.7120 - val_recall_m: 0.7067\n",
            "Epoch 31/70\n",
            "710/710 - 327s - loss: 0.5267 - accuracy: 0.7461 - f1_m: 0.7459 - precision_m: 0.7461 - recall_m: 0.7487 - val_loss: 0.6842 - val_accuracy: 0.7159 - val_f1_m: 0.7090 - val_precision_m: 0.7198 - val_recall_m: 0.7016\n",
            "Epoch 32/70\n",
            "710/710 - 322s - loss: 0.5155 - accuracy: 0.7506 - f1_m: 0.7503 - precision_m: 0.7507 - recall_m: 0.7527 - val_loss: 0.7015 - val_accuracy: 0.7186 - val_f1_m: 0.7100 - val_precision_m: 0.7258 - val_recall_m: 0.6980\n",
            "Epoch 33/70\n",
            "710/710 - 322s - loss: 0.5062 - accuracy: 0.7556 - f1_m: 0.7549 - precision_m: 0.7558 - recall_m: 0.7575 - val_loss: 0.6329 - val_accuracy: 0.7219 - val_f1_m: 0.7129 - val_precision_m: 0.7305 - val_recall_m: 0.6994\n",
            "Epoch 34/70\n",
            "710/710 - 323s - loss: 0.4965 - accuracy: 0.7596 - f1_m: 0.7591 - precision_m: 0.7607 - recall_m: 0.7607 - val_loss: 0.6561 - val_accuracy: 0.7262 - val_f1_m: 0.7187 - val_precision_m: 0.7324 - val_recall_m: 0.7088\n",
            "Epoch 35/70\n",
            "710/710 - 324s - loss: 0.4883 - accuracy: 0.7659 - f1_m: 0.7654 - precision_m: 0.7652 - recall_m: 0.7688 - val_loss: 0.5782 - val_accuracy: 0.7298 - val_f1_m: 0.7238 - val_precision_m: 0.7333 - val_recall_m: 0.7178\n",
            "Epoch 36/70\n",
            "710/710 - 322s - loss: 0.4797 - accuracy: 0.7705 - f1_m: 0.7709 - precision_m: 0.7682 - recall_m: 0.7761 - val_loss: 0.5892 - val_accuracy: 0.7340 - val_f1_m: 0.7204 - val_precision_m: 0.7517 - val_recall_m: 0.6947\n",
            "Epoch 37/70\n",
            "710/710 - 326s - loss: 0.4704 - accuracy: 0.7755 - f1_m: 0.7768 - precision_m: 0.7714 - recall_m: 0.7854 - val_loss: 0.5887 - val_accuracy: 0.7357 - val_f1_m: 0.7214 - val_precision_m: 0.7558 - val_recall_m: 0.6933\n",
            "Epoch 38/70\n",
            "710/710 - 322s - loss: 0.4616 - accuracy: 0.7812 - f1_m: 0.7816 - precision_m: 0.7781 - recall_m: 0.7881 - val_loss: 0.6111 - val_accuracy: 0.7394 - val_f1_m: 0.7240 - val_precision_m: 0.7630 - val_recall_m: 0.6921\n",
            "Epoch 39/70\n",
            "710/710 - 327s - loss: 0.4590 - accuracy: 0.7840 - f1_m: 0.7851 - precision_m: 0.7810 - recall_m: 0.7928 - val_loss: 0.5217 - val_accuracy: 0.7396 - val_f1_m: 0.7244 - val_precision_m: 0.7619 - val_recall_m: 0.6937\n",
            "Epoch 40/70\n",
            "710/710 - 327s - loss: 0.4479 - accuracy: 0.7894 - f1_m: 0.7901 - precision_m: 0.7865 - recall_m: 0.7967 - val_loss: 0.5997 - val_accuracy: 0.7441 - val_f1_m: 0.7344 - val_precision_m: 0.7565 - val_recall_m: 0.7168\n",
            "Epoch 41/70\n",
            "710/710 - 322s - loss: 0.4413 - accuracy: 0.7921 - f1_m: 0.7927 - precision_m: 0.7886 - recall_m: 0.8001 - val_loss: 0.5223 - val_accuracy: 0.7422 - val_f1_m: 0.7223 - val_precision_m: 0.7749 - val_recall_m: 0.6796\n",
            "Epoch 42/70\n",
            "710/710 - 322s - loss: 0.4341 - accuracy: 0.7968 - f1_m: 0.7976 - precision_m: 0.7936 - recall_m: 0.8045 - val_loss: 0.5132 - val_accuracy: 0.7462 - val_f1_m: 0.7361 - val_precision_m: 0.7594 - val_recall_m: 0.7173\n",
            "Epoch 43/70\n",
            "710/710 - 323s - loss: 0.4504 - accuracy: 0.7927 - f1_m: 0.7909 - precision_m: 0.7957 - recall_m: 0.7904 - val_loss: 0.5208 - val_accuracy: 0.7441 - val_f1_m: 0.7315 - val_precision_m: 0.7615 - val_recall_m: 0.7068\n",
            "Epoch 44/70\n",
            "710/710 - 323s - loss: 0.4270 - accuracy: 0.8013 - f1_m: 0.8023 - precision_m: 0.7949 - recall_m: 0.8127 - val_loss: 1.1935 - val_accuracy: 0.7450 - val_f1_m: 0.7280 - val_precision_m: 0.7716 - val_recall_m: 0.6922\n",
            "Epoch 45/70\n",
            "710/710 - 322s - loss: 0.4216 - accuracy: 0.8023 - f1_m: 0.8033 - precision_m: 0.7983 - recall_m: 0.8110 - val_loss: 0.5160 - val_accuracy: 0.7473 - val_f1_m: 0.7406 - val_precision_m: 0.7545 - val_recall_m: 0.7304\n",
            "Epoch 46/70\n",
            "710/710 - 322s - loss: 0.4202 - accuracy: 0.8063 - f1_m: 0.8072 - precision_m: 0.8034 - recall_m: 0.8140 - val_loss: 0.5330 - val_accuracy: 0.7453 - val_f1_m: 0.7304 - val_precision_m: 0.7683 - val_recall_m: 0.6994\n",
            "Epoch 47/70\n",
            "710/710 - 322s - loss: 0.4128 - accuracy: 0.8089 - f1_m: 0.8099 - precision_m: 0.8049 - recall_m: 0.8180 - val_loss: 0.5326 - val_accuracy: 0.7463 - val_f1_m: 0.7304 - val_precision_m: 0.7712 - val_recall_m: 0.6970\n",
            "Epoch 48/70\n",
            "710/710 - 329s - loss: 0.4073 - accuracy: 0.8118 - f1_m: 0.8125 - precision_m: 0.8080 - recall_m: 0.8201 - val_loss: 0.5235 - val_accuracy: 0.7488 - val_f1_m: 0.7432 - val_precision_m: 0.7541 - val_recall_m: 0.7359\n",
            "Epoch 49/70\n",
            "710/710 - 324s - loss: 0.4028 - accuracy: 0.8131 - f1_m: 0.8138 - precision_m: 0.8094 - recall_m: 0.8208 - val_loss: 0.5242 - val_accuracy: 0.7485 - val_f1_m: 0.7345 - val_precision_m: 0.7699 - val_recall_m: 0.7058\n",
            "Epoch 50/70\n",
            "710/710 - 331s - loss: 0.3981 - accuracy: 0.8160 - f1_m: 0.8164 - precision_m: 0.8139 - recall_m: 0.8218 - val_loss: 0.5480 - val_accuracy: 0.7487 - val_f1_m: 0.7369 - val_precision_m: 0.7661 - val_recall_m: 0.7132\n",
            "Epoch 51/70\n",
            "710/710 - 324s - loss: 0.3929 - accuracy: 0.8184 - f1_m: 0.8191 - precision_m: 0.8155 - recall_m: 0.8256 - val_loss: 0.5504 - val_accuracy: 0.7493 - val_f1_m: 0.7373 - val_precision_m: 0.7670 - val_recall_m: 0.7131\n",
            "Epoch 52/70\n",
            "710/710 - 331s - loss: 0.4090 - accuracy: 0.8116 - f1_m: 0.8064 - precision_m: 0.8270 - recall_m: 0.7950 - val_loss: 0.5075 - val_accuracy: 0.7482 - val_f1_m: 0.7403 - val_precision_m: 0.7575 - val_recall_m: 0.7270\n",
            "Epoch 53/70\n",
            "710/710 - 322s - loss: 0.3945 - accuracy: 0.8191 - f1_m: 0.8206 - precision_m: 0.8116 - recall_m: 0.8322 - val_loss: 3572.7937 - val_accuracy: 0.7499 - val_f1_m: 0.7428 - val_precision_m: 0.7577 - val_recall_m: 0.7319\n",
            "Epoch 54/70\n",
            "710/710 - 323s - loss: 0.3896 - accuracy: 0.8210 - f1_m: 0.8226 - precision_m: 0.8139 - recall_m: 0.8336 - val_loss: 2119699.5000 - val_accuracy: 0.7504 - val_f1_m: 0.7443 - val_precision_m: 0.7565 - val_recall_m: 0.7359\n",
            "Epoch 55/70\n",
            "710/710 - 326s - loss: 0.3869 - accuracy: 0.8214 - f1_m: 0.8232 - precision_m: 0.8137 - recall_m: 0.8354 - val_loss: 14930711.0000 - val_accuracy: 0.7510 - val_f1_m: 0.7466 - val_precision_m: 0.7536 - val_recall_m: 0.7431\n",
            "Epoch 56/70\n",
            "710/710 - 327s - loss: 0.3840 - accuracy: 0.8230 - f1_m: 0.8247 - precision_m: 0.8162 - recall_m: 0.8358 - val_loss: 60756312.0000 - val_accuracy: 0.7493 - val_f1_m: 0.7398 - val_precision_m: 0.7618 - val_recall_m: 0.7224\n",
            "Epoch 57/70\n",
            "710/710 - 324s - loss: 0.3805 - accuracy: 0.8235 - f1_m: 0.8244 - precision_m: 0.8177 - recall_m: 0.8335 - val_loss: 99583376.0000 - val_accuracy: 0.7490 - val_f1_m: 0.7424 - val_precision_m: 0.7558 - val_recall_m: 0.7328\n",
            "Epoch 58/70\n",
            "710/710 - 335s - loss: 0.3783 - accuracy: 0.8261 - f1_m: 0.8266 - precision_m: 0.8214 - recall_m: 0.8342 - val_loss: 62543692.0000 - val_accuracy: 0.7489 - val_f1_m: 0.7403 - val_precision_m: 0.7596 - val_recall_m: 0.7254\n",
            "Epoch 59/70\n",
            "710/710 - 329s - loss: 0.3754 - accuracy: 0.8277 - f1_m: 0.8282 - precision_m: 0.8228 - recall_m: 0.8363 - val_loss: 143217920.0000 - val_accuracy: 0.7487 - val_f1_m: 0.7415 - val_precision_m: 0.7570 - val_recall_m: 0.7300\n",
            "Epoch 60/70\n",
            "710/710 - 331s - loss: 0.3728 - accuracy: 0.8278 - f1_m: 0.8286 - precision_m: 0.8229 - recall_m: 0.8368 - val_loss: 10070839296.0000 - val_accuracy: 0.7491 - val_f1_m: 0.7420 - val_precision_m: 0.7569 - val_recall_m: 0.7310\n",
            "Epoch 61/70\n",
            "710/710 - 334s - loss: 0.3701 - accuracy: 0.8291 - f1_m: 0.8294 - precision_m: 0.8255 - recall_m: 0.8359 - val_loss: 1105040640.0000 - val_accuracy: 0.7489 - val_f1_m: 0.7414 - val_precision_m: 0.7576 - val_recall_m: 0.7294\n",
            "Epoch 62/70\n",
            "710/710 - 331s - loss: 0.3672 - accuracy: 0.8299 - f1_m: 0.8308 - precision_m: 0.8250 - recall_m: 0.8393 - val_loss: 5481771520.0000 - val_accuracy: 0.7481 - val_f1_m: 0.7386 - val_precision_m: 0.7605 - val_recall_m: 0.7212\n",
            "Epoch 63/70\n",
            "710/710 - 335s - loss: 0.3641 - accuracy: 0.8315 - f1_m: 0.8322 - precision_m: 0.8264 - recall_m: 0.8407 - val_loss: 55259430912.0000 - val_accuracy: 0.7474 - val_f1_m: 0.7438 - val_precision_m: 0.7483 - val_recall_m: 0.7429\n",
            "Epoch 64/70\n",
            "710/710 - 336s - loss: 246711.0312 - accuracy: 0.8333 - f1_m: 0.8341 - precision_m: 0.8279 - recall_m: 0.8429 - val_loss: 0.5384 - val_accuracy: 0.7475 - val_f1_m: 0.7368 - val_precision_m: 0.7617 - val_recall_m: 0.7168\n",
            "Epoch 65/70\n",
            "710/710 - 328s - loss: 0.3579 - accuracy: 0.8344 - f1_m: 0.8352 - precision_m: 0.8293 - recall_m: 0.8433 - val_loss: 0.5462 - val_accuracy: 0.7474 - val_f1_m: 0.7391 - val_precision_m: 0.7572 - val_recall_m: 0.7253\n",
            "Epoch 66/70\n",
            "710/710 - 336s - loss: 0.3555 - accuracy: 0.8365 - f1_m: 0.8369 - precision_m: 0.8337 - recall_m: 0.8427 - val_loss: 0.5408 - val_accuracy: 0.7472 - val_f1_m: 0.7409 - val_precision_m: 0.7533 - val_recall_m: 0.7324\n",
            "Epoch 67/70\n",
            "710/710 - 327s - loss: 0.3510 - accuracy: 0.8385 - f1_m: 0.8389 - precision_m: 0.8343 - recall_m: 0.8458 - val_loss: 0.5542 - val_accuracy: 0.7466 - val_f1_m: 0.7371 - val_precision_m: 0.7590 - val_recall_m: 0.7200\n",
            "Epoch 68/70\n",
            "710/710 - 327s - loss: 0.3498 - accuracy: 0.8387 - f1_m: 0.8386 - precision_m: 0.8352 - recall_m: 0.8442 - val_loss: 0.5493 - val_accuracy: 0.7462 - val_f1_m: 0.7458 - val_precision_m: 0.7413 - val_recall_m: 0.7540\n",
            "Epoch 69/70\n",
            "710/710 - 330s - loss: 0.3460 - accuracy: 0.8406 - f1_m: 0.8409 - precision_m: 0.8363 - recall_m: 0.8481 - val_loss: 0.5525 - val_accuracy: 0.7466 - val_f1_m: 0.7462 - val_precision_m: 0.7411 - val_recall_m: 0.7550\n",
            "Epoch 70/70\n",
            "710/710 - 327s - loss: 0.3436 - accuracy: 0.8414 - f1_m: 0.8414 - precision_m: 0.8379 - recall_m: 0.8479 - val_loss: 0.5561 - val_accuracy: 0.7456 - val_f1_m: 0.7332 - val_precision_m: 0.7636 - val_recall_m: 0.7085\n"
          ],
          "name": "stdout"
        }
      ]
    },
    {
      "cell_type": "code",
      "metadata": {
        "id": "q0fgTL_Marak",
        "colab_type": "code",
        "colab": {
          "base_uri": "https://localhost:8080/",
          "height": 104
        },
        "outputId": "82e3c92f-7f89-40a7-c4af-6eb69e4e0660"
      },
      "source": [
        "loss, accuracy, f1_score, precision, recall = model.evaluate(testing_padded, testing_labels, verbose=0)\n",
        "print(loss)\n",
        "print(accuracy)\n",
        "print(f1_score)\n",
        "print(precision)\n",
        "print(recall)"
      ],
      "execution_count": null,
      "outputs": [
        {
          "output_type": "stream",
          "text": [
            "0.5561439990997314\n",
            "0.7455931901931763\n",
            "0.7289113998413086\n",
            "0.7637484073638916\n",
            "0.7091068029403687\n"
          ],
          "name": "stdout"
        }
      ]
    },
    {
      "cell_type": "code",
      "metadata": {
        "id": "mu_vtIJrataP",
        "colab_type": "code",
        "colab": {
          "base_uri": "https://localhost:8080/",
          "height": 553
        },
        "outputId": "170fc5dc-0a04-4e46-ff69-328c9751fb9e"
      },
      "source": [
        "import matplotlib.pyplot as plt\n",
        "\n",
        "\n",
        "def plot_graphs(history, string):\n",
        "  plt.plot(history.history[string])\n",
        "  plt.plot(history.history['val_'+string])\n",
        "  plt.xlabel(\"Epochs\")\n",
        "  plt.ylabel(string)\n",
        "  plt.legend([string, 'val_'+string])\n",
        "  plt.show()\n",
        "  \n",
        "plot_graphs(history, \"accuracy\")\n",
        "plot_graphs(history, \"loss\")"
      ],
      "execution_count": null,
      "outputs": [
        {
          "output_type": "display_data",
          "data": {
            "image/png": "[encoded data removed]",
            "text/plain": [
              "<Figure size 432x288 with 1 Axes>"
            ]
          },
          "metadata": {
            "tags": [],
            "needs_background": "light"
          }
        },
        {
          "output_type": "display_data",
          "data": {
            "image/png": "[encoded data removed]",
            "text/plain": [
              "<Figure size 432x288 with 1 Axes>"
            ]
          },
          "metadata": {
            "tags": [],
            "needs_background": "light"
          }
        }
      ]
    },
    {
      "cell_type": "code",
      "metadata": {
        "id": "xuYTfT6maxuO",
        "colab_type": "code",
        "colab": {
          "base_uri": "https://localhost:8080/",
          "height": 35
        },
        "outputId": "3dc31f73-af3b-4ad2-f67d-c4ce8011be95"
      },
      "source": [
        "e = model.layers[0]\n",
        "weights = e.get_weights()[0]\n",
        "print(weights.shape)"
      ],
      "execution_count": null,
      "outputs": [
        {
          "output_type": "stream",
          "text": [
            "(17500, 50)\n"
          ],
          "name": "stdout"
        }
      ]
    },
    {
      "cell_type": "code",
      "metadata": {
        "id": "mclrDDrbqexD",
        "colab_type": "code",
        "colab": {
          "base_uri": "https://localhost:8080/",
          "height": 155
        },
        "outputId": "8e43517c-f5da-4e28-cd01-4f57ac92b110"
      },
      "source": [
        "sentence = [\"i love you🙄\",\"i love you!\",\n",
        "            \"losing is the best\",\n",
        "            \"thank you! you are my favourite \",\n",
        "            \"i love being poor🙄\",\n",
        "            \"sun is  a star \",\n",
        "            \"thank god for mondays!\",\"thank god for mondays #sarcasm\"]\n",
        "sequences = tokenizer.texts_to_sequences(sentence)\n",
        "padded = pad_sequences(sequences, maxlen=max_length, padding=padding_type, truncating=trunc_type)\n",
        "pred=(model.predict(padded))\n",
        "i=0\n",
        "\n",
        "print(pred)\n",
        "#print(type(pred))"
      ],
      "execution_count": null,
      "outputs": [
        {
          "output_type": "stream",
          "text": [
            "[[0.85739744]\n",
            " [0.8348608 ]\n",
            " [0.5247235 ]\n",
            " [0.70229137]\n",
            " [0.6563212 ]\n",
            " [0.71824247]\n",
            " [0.5874607 ]\n",
            " [0.99328125]]\n"
          ],
          "name": "stdout"
        }
      ]
    },
    {
      "cell_type": "code",
      "metadata": {
        "id": "Onh41tcyaylZ",
        "colab_type": "code",
        "colab": {
          "base_uri": "https://localhost:8080/",
          "height": 52
        },
        "outputId": "91d92694-3602-420b-a10a-00ce092d1be0"
      },
      "source": [
        "import numpy as np\n",
        "count_correct=0\n",
        "count_wrong=0\n",
        "\n",
        "sequences = tokenizer.texts_to_sequences(testing_sentences)\n",
        "padded = pad_sequences(sequences, maxlen=max_length, padding=padding_type, truncating=trunc_type)\n",
        "pred=(model.predict(padded))\n",
        "i=0\n",
        "for x in np.nditer(pred):\n",
        "  #print(x, \"\\t\", testing_labels[i])\n",
        "  if (testing_labels[i]==1 and x>=0.5) or (testing_labels[i]==0 and x<0.5) :\n",
        "    count_correct+=1\n",
        "  else:\n",
        "    count_wrong+=1\n",
        "  i+=1\n",
        "\n",
        "print(count_correct)\n",
        "print(count_wrong)\n",
        "#print(type(pred))"
      ],
      "execution_count": null,
      "outputs": [
        {
          "output_type": "stream",
          "text": [
            "16478\n",
            "6214\n"
          ],
          "name": "stdout"
        }
      ]
    },
    {
      "cell_type": "code",
      "metadata": {
        "id": "TwcZUY2ha1-D",
        "colab_type": "code",
        "colab": {
          "base_uri": "https://localhost:8080/",
          "height": 72
        },
        "outputId": "b0813039-045f-40db-8c90-b4c2611c7aeb"
      },
      "source": [
        "results = model.evaluate(testing_padded, testing_labels, batch_size=128)\n",
        "print(\"test loss, test acc:\", results)"
      ],
      "execution_count": null,
      "outputs": [
        {
          "output_type": "stream",
          "text": [
            "178/178 [==============================] - 11s 61ms/step - loss: 0.5561 - accuracy: 0.7456 - f1_m: 0.7332 - precision_m: 0.7636 - recall_m: 0.7085\n",
            "test loss, test acc: [0.5561438202857971, 0.7455931901931763, 0.733207643032074, 0.7635896801948547, 0.7084838151931763]\n"
          ],
          "name": "stdout"
        }
      ]
    }
  ]
}